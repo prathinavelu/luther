{
 "metadata": {
  "name": "",
  "signature": "sha256:ed23a4390d8651fc4ebfa3552c5013be03212d13d5a497efb04ff835d6b8725f"
 },
 "nbformat": 3,
 "nbformat_minor": 0,
 "worksheets": [
  {
   "cells": [
    {
     "cell_type": "markdown",
     "metadata": {},
     "source": [
      "##Web Scraping 1: BeautifulSoup\n",
      "\n",
      "[BeautifulSoup documentation](http://www.crummy.com/software/BeautifulSoup/bs4/doc/)\n",
      "\n",
      "For Project Luther, we will be scraping information about movies from the internet. "
     ]
    },
    {
     "cell_type": "markdown",
     "metadata": {},
     "source": [
      "###Get the HTML from a page and convert to a BeautifulSoup object\n",
      "\n",
      "we'll start by scraping some information from [this page](http://boxofficemojo.com/movies/?id=biglebowski.htm)"
     ]
    },
    {
     "cell_type": "code",
     "collapsed": false,
     "input": [
      "import urllib2\n",
      "from bs4 import BeautifulSoup\n",
      "\n",
      "url = 'http://boxofficemojo.com/movies/?id=biglebowski.htm'\n",
      "\n",
      "page = urllib2.urlopen(url)\n",
      "soup = BeautifulSoup(page)"
     ],
     "language": "python",
     "metadata": {},
     "outputs": [],
     "prompt_number": 74
    },
    {
     "cell_type": "code",
     "collapsed": false,
     "input": [
      "print soup"
     ],
     "language": "python",
     "metadata": {},
     "outputs": []
    },
    {
     "cell_type": "markdown",
     "metadata": {},
     "source": [
      "##soup.find() \n",
      "soup.find() is the most common function we will use from this package.  \n",
      "Let's try out some common variations of soup.find() \n"
     ]
    },
    {
     "cell_type": "code",
     "collapsed": false,
     "input": [
      "# soup.find() returns the first match it finds. \n",
      "# search for a type of tag by using the tag as a string (like 'body','div','p','a') as an argument.\n",
      "print soup.find('a')"
     ],
     "language": "python",
     "metadata": {},
     "outputs": [
      {
       "output_type": "stream",
       "stream": "stdout",
       "text": [
        "<a href=\"/daily/chart/\">Daily Box Office (Sun.)</a>\n"
       ]
      }
     ],
     "prompt_number": 3
    },
    {
     "cell_type": "code",
     "collapsed": false,
     "input": [
      "# soup.find_all() returns a list of all matches\n",
      "for link in soup.find_all('a'): print link"
     ],
     "language": "python",
     "metadata": {},
     "outputs": []
    },
    {
     "cell_type": "code",
     "collapsed": false,
     "input": [
      "# you can match on an attribute like an id or class. \n",
      "print soup.find(class_='mp_box_content').find('table').attrs\n",
      "print '\\n'\n",
      "\n",
      "#print soup.find(id='hp_footer')"
     ],
     "language": "python",
     "metadata": {},
     "outputs": [
      {
       "output_type": "stream",
       "stream": "stdout",
       "text": [
        "{u'cellpadding': u'0', u'cellspacing': u'0', u'border': u'0'}\n",
        "\n",
        "\n"
       ]
      }
     ],
     "prompt_number": 10
    },
    {
     "cell_type": "code",
     "collapsed": false,
     "input": [
      "#retrieve url from \n",
      "soup.find('a')['href']"
     ],
     "language": "python",
     "metadata": {},
     "outputs": [
      {
       "metadata": {},
       "output_type": "pyout",
       "prompt_number": 13,
       "text": [
        "u'/daily/chart/'"
       ]
      }
     ],
     "prompt_number": 13
    },
    {
     "cell_type": "markdown",
     "metadata": {},
     "source": [
      "##consistency\n",
      "Web scraping is made simple by the consistent format of information among like pages of a website.   \n",
      "\n",
      "### ok, enough chitchat.\n",
      "Let's choose some information to get about a movie and figure out how to get it with BeautifulSoup."
     ]
    },
    {
     "cell_type": "markdown",
     "metadata": {},
     "source": [
      "###items to scrape for each movie:\n",
      "* movie title\n",
      "* total domestic gross\n",
      "* release date\n",
      "* runtime\n",
      "* director\n",
      "* rating\n"
     ]
    },
    {
     "cell_type": "code",
     "collapsed": false,
     "input": [
      "# Movie Title\n",
      "title_string = soup.find('title').text\n",
      "title =title_string.split('(')[0].strip()\n",
      "print title"
     ],
     "language": "python",
     "metadata": {},
     "outputs": [
      {
       "output_type": "stream",
       "stream": "stdout",
       "text": [
        "The Big Lebowski\n"
       ]
      }
     ],
     "prompt_number": 21
    },
    {
     "cell_type": "code",
     "collapsed": false,
     "input": [
      "# Total Domestic Gross \n",
      "import re\n",
      "\n",
      "dtg_string = soup.find(text=re.compile('Domestic Total Gross:'))\n",
      "dtg = dtg_string.findNextSibling().text\n",
      "dtg = dtg.replace('$','').replace(',','')\n",
      "domestic_total_gross = int(dtg)\n",
      "\n",
      "print domestic_total_gross"
     ],
     "language": "python",
     "metadata": {},
     "outputs": [
      {
       "output_type": "stream",
       "stream": "stdout",
       "text": [
        "17451873\n"
       ]
      }
     ],
     "prompt_number": 30
    },
    {
     "cell_type": "code",
     "collapsed": false,
     "input": [
      "# Release Date\n",
      "\n",
      "rd_string = soup.find(text=re.compile('Release Date:'))\n",
      "rd = rd_string.findNextSibling().text\n",
      "\n",
      "print rd"
     ],
     "language": "python",
     "metadata": {},
     "outputs": [
      {
       "output_type": "stream",
       "stream": "stdout",
       "text": [
        "March 6, 1998\n"
       ]
      }
     ],
     "prompt_number": 35
    },
    {
     "cell_type": "markdown",
     "metadata": {},
     "source": [
      "###We can actually do several of these using the text matching method, so let's make a function for that\n"
     ]
    },
    {
     "cell_type": "code",
     "collapsed": false,
     "input": [
      "def get_movie_value(soup,value_name):\n",
      "    '''\n",
      "    takes a string attribute of a movie on the page and \n",
      "    returns the string in the next sibling object (the value for that attribute)\n",
      "    '''\n",
      "    obj = soup.find(text=re.compile(value_name))\n",
      "    if not obj: \n",
      "        return None\n",
      "    \n",
      "    # this works for most of the values\n",
      "    next_sibling = obj.findNextSibling()\n",
      "    if next_sibling:\n",
      "        return next_sibling.text\n",
      "\n",
      "    # this next part works for the director\n",
      "    elif obj.find_parent('tr'):\n",
      "        sibling_cell = obj.find_parent('tr').findNextSibling()\n",
      "        if sibling_cell:\n",
      "            return sibling_cell.text\n",
      "        \n",
      "    else:\n",
      "        return none\n",
      "    \n",
      "    "
     ],
     "language": "python",
     "metadata": {},
     "outputs": [],
     "prompt_number": 79
    },
    {
     "cell_type": "code",
     "collapsed": false,
     "input": [
      "# Let's get the following pieces of information using the function we just created\n",
      "\n",
      "#release date\n",
      "\n",
      "release_date = get_movie_value(soup,'Release Date:')\n",
      "print release_date\n",
      "\n",
      "#domestic total gross\n",
      "dtg = get_movie_value(soup,'Domestic Total Gross:')\n",
      "print dtg\n",
      "\n",
      "#runtime\n",
      "runtime = get_movie_value(soup,'Runtime')\n",
      "print runtime\n",
      "\n",
      "#rating\n",
      "rating = get_movie_value(soup, 'MPAA Rating')\n",
      "print rating\n",
      "\n",
      "#director\n",
      "director = get_movie_value(soup, 'Director')\n",
      "print director"
     ],
     "language": "python",
     "metadata": {},
     "outputs": [
      {
       "output_type": "stream",
       "stream": "stdout",
       "text": [
        "March 6, 1998\n",
        "$17,451,873\n",
        "1 hrs. 57 min.\n",
        "R\n",
        "Joel Coen\n"
       ]
      }
     ],
     "prompt_number": 88
    },
    {
     "cell_type": "markdown",
     "metadata": {},
     "source": [
      "###we need a few helper methods to parse the strings we've gotten"
     ]
    },
    {
     "cell_type": "code",
     "collapsed": false,
     "input": [
      "import dateutil.parser\n",
      "\n",
      "def to_date(datestring):\n",
      "    date = dateutil.parser.parse(datestring)\n",
      "    return date\n",
      "\n",
      "def money_to_int(moneystring):\n",
      "    moneystring = moneystring.replace('$','').replace(',','')\n",
      "    return int(moneystring)\n",
      "\n",
      "def runtime_to_minutes(runtimestring):\n",
      "    runtime = runtimestring.split(' ')\n",
      "    return int(runtime[0])*60 + int(runtime[2])"
     ],
     "language": "python",
     "metadata": {},
     "outputs": [],
     "prompt_number": 91
    },
    {
     "cell_type": "code",
     "collapsed": false,
     "input": [
      "#let's get these again and format them all in one swoop\n",
      "release_date = to_date(get_movie_value(soup,'Release Date'))\n",
      "domestic_total_gross = money_to_int(get_movie_value(soup,'Domestic Total Gross'))\n",
      "runtime = runtime_to_minutes(get_movie_value(soup,'Runtime'))\n",
      "\n",
      "headers = ['movie title','domestic total gross','release date','runtime (mins)','director','rating']\n",
      "\n",
      "movie_data = []\n",
      "movie_data.append(dict(zip(headers,[title,domestic_total_gross,release_date,runtime,director,rating])))\n",
      "\n",
      "print movie_data"
     ],
     "language": "python",
     "metadata": {},
     "outputs": [
      {
       "output_type": "stream",
       "stream": "stdout",
       "text": [
        "[{'rating': u'R', 'domestic total gross': 17451873, 'director': u'Joel Coen', 'movie title': u'The Big Lebowski', 'release date': datetime.datetime(1998, 3, 6, 0, 0), 'runtime (mins)': 117}]\n"
       ]
      }
     ],
     "prompt_number": 95
    },
    {
     "cell_type": "markdown",
     "metadata": {},
     "source": [
      "###Now we need to generalize this so that we can take a url from boxofficemojo and create an entry in our movie data"
     ]
    }
   ],
   "metadata": {}
  }
 ]
}