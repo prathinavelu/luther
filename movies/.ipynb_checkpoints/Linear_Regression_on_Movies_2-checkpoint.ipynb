{
 "metadata": {
  "name": "",
  "signature": "sha256:3c911238c927372723b20e0ed8065b8b8c2fd5256bdd3e74e366445c4c1cd44a"
 },
 "nbformat": 3,
 "nbformat_minor": 0,
 "worksheets": [
  {
   "cells": [
    {
     "cell_type": "code",
     "collapsed": false,
     "input": [
      "%matplotlib inline\n",
      "import pandas as pd\n",
      "import numpy as np\n",
      "from datetime import datetime\n",
      "\n",
      "# Note: Here I'm loading my movie csv file to make a data frame\n",
      "# You can work on your own data frame\n",
      "\n",
      "movies = pd.read_csv('2013_movies.csv', parse_dates={'Date':['ReleaseDate']})\n",
      "\n",
      "movies.head()\n",
      "\n"
     ],
     "language": "python",
     "metadata": {},
     "outputs": []
    },
    {
     "cell_type": "markdown",
     "metadata": {},
     "source": [
      "### Predict Gross using Budget only"
     ]
    },
    {
     "cell_type": "code",
     "collapsed": false,
     "input": [
      "movies_with_budget = movies[ -np.isnan(movies.Budget) ]\n",
      "movies_with_budget.tail()"
     ],
     "language": "python",
     "metadata": {},
     "outputs": []
    },
    {
     "cell_type": "code",
     "collapsed": false,
     "input": [
      "movies_with_budget['Ones'] = 1.0\n",
      "movies_with_budget.tail()"
     ],
     "language": "python",
     "metadata": {},
     "outputs": []
    },
    {
     "cell_type": "code",
     "collapsed": false,
     "input": [
      "import statsmodels.formula.api as sm\n",
      "\n",
      "X = movies_with_budget[['Budget', 'Ones']]\n",
      "Y = movies_with_budget['DomesticTotalGross']\n"
     ],
     "language": "python",
     "metadata": {},
     "outputs": []
    },
    {
     "cell_type": "markdown",
     "metadata": {},
     "source": [
      "#### Plot the model"
     ]
    },
    {
     "cell_type": "code",
     "collapsed": false,
     "input": [
      "import matplotlib.pyplot as plt\n",
      "plt.scatter(movies_with_budget.Budget, movies_with_budget.DomesticTotalGross)\n",
      "plt.xlabel('Budget')\n",
      "plt.ylabel('Box Office')\n",
      "plt.plot(movies_with_budget.Budget, linmodel.predict(X), 'r')\n",
      "\n",
      "#from statsmodels.sandbox.regression.predstd import wls_prediction_std\n"
     ],
     "language": "python",
     "metadata": {},
     "outputs": []
    },
    {
     "cell_type": "markdown",
     "metadata": {},
     "source": [
      "#### Plot the predictions of the model against true values"
     ]
    },
    {
     "cell_type": "code",
     "collapsed": false,
     "input": [
      "# plot the predictions \n",
      "######\n",
      "# plot the 1:1 actual gross line\n",
      "######\n",
      "# axis labels\n",
      "plt.xlabel('Actual Gross')\n",
      "plt.ylabel('Predicted Gross by Rating Model')"
     ],
     "language": "python",
     "metadata": {},
     "outputs": []
    },
    {
     "cell_type": "markdown",
     "metadata": {},
     "source": [
      "### Same regression with scikit.learn"
     ]
    },
    {
     "cell_type": "code",
     "collapsed": false,
     "input": [
      "# Same model with scikitlearn\n",
      "\n",
      "from sklearn.linear_model import LinearRegression\n",
      "\n",
      "np_movies = np.matrix(movies_with_budget)\n",
      "\n",
      "X = np_movies[:, 2]  # budget\n",
      "Y = np_movies[:, 3]  # gross\n",
      "\n",
      "sk_linmodel = LinearRegression()\n",
      "sk_linmodel.fit(X,Y)\n",
      "\n",
      "x, y = X.A1, Y.A1\n",
      "\n",
      "print 'coefficient:\\t %g'% sk_linmodel.coef_[0,0]\n",
      "print 'intercept:\\t %g'  % sk_linmodel.intercept_[0]\n",
      "print 'R^2:      \\t %g'  % sk_linmodel.score(X, Y)\n",
      "\n",
      "plt.scatter(x, y)\n",
      "plt.xlabel(\"Budget\")\n",
      "plt.ylabel(\"Box Office\")\n",
      "plt.plot(x, sk_linmodel.predict(X), 'r')"
     ],
     "language": "python",
     "metadata": {},
     "outputs": []
    },
    {
     "cell_type": "markdown",
     "metadata": {},
     "source": [
      "### Predict Gross using Ratings (categorical variable)"
     ]
    },
    {
     "cell_type": "code",
     "collapsed": false,
     "input": [
      "m = movies_with_budget\n",
      "pd.get_dummies(m['Rating'])"
     ],
     "language": "python",
     "metadata": {},
     "outputs": []
    },
    {
     "cell_type": "code",
     "collapsed": false,
     "input": [
      "m = pd.concat([m,pd.get_dummies(m['Rating'])], axis=1)\n",
      "m.head()"
     ],
     "language": "python",
     "metadata": {},
     "outputs": []
    },
    {
     "cell_type": "code",
     "collapsed": false,
     "input": [
      "X = m[['PG', 'PG-13', 'R', 'Ones']]\n",
      "Y = m['DomesticTotalGross']\n",
      "rating_linmodel = sm.OLS(Y, X).fit()\n",
      "rating_linmodel.summary()"
     ],
     "language": "python",
     "metadata": {},
     "outputs": []
    },
    {
     "cell_type": "markdown",
     "metadata": {},
     "source": [
      "#### Plot the predictions"
     ]
    },
    {
     "cell_type": "code",
     "collapsed": false,
     "input": [
      "# plot the predictions \n",
      "plt.plot(m['DomesticTotalGross'], rating_linmodel.predict(X), 'go')\n",
      "# plot the 1:1 actual gross line\n",
      "plt.plot(m['DomesticTotalGross'], m['DomesticTotalGross'], 'b--')\n",
      "# axis labels\n",
      "plt.xlabel('Actual Gross')\n",
      "plt.ylabel('Predicted Gross by Rating Model')"
     ],
     "language": "python",
     "metadata": {},
     "outputs": []
    }
   ],
   "metadata": {}
  }
 ]
}