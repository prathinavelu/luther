{
 "metadata": {
  "name": "",
  "signature": "sha256:ec78bedadcf31a498f3e137155df66176e089bf22d2438988a943226160069de"
 },
 "nbformat": 3,
 "nbformat_minor": 0,
 "worksheets": [
  {
   "cells": [
    {
     "cell_type": "code",
     "collapsed": false,
     "input": [
      "data_dict = {'Irmak': 12, 'Laurie' : 1}\n",
      "\n",
      "!ls"
     ],
     "language": "python",
     "metadata": {},
     "outputs": []
    }
   ],
   "metadata": {}
  }
 ]
}