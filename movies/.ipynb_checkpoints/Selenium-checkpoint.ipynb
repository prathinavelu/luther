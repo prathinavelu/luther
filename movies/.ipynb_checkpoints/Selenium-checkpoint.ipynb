{
 "metadata": {
  "name": "",
  "signature": "sha256:492e11b06d8f118a82afdc34f4d0a91d4f3ae481625c3d68e68a125ac7798ac7"
 },
 "nbformat": 3,
 "nbformat_minor": 0,
 "worksheets": [
  {
   "cells": [
    {
     "cell_type": "code",
     "collapsed": false,
     "input": [
      "from bs4 import BeautifulSoup\n",
      "import urllib2\n",
      "gmail_url = \"http://mail.google.com\"\n",
      "\n",
      "soup = BeautifulSoup( urllib2.urlopen(gmail_url).read() )\n",
      "print soup.prettify()"
     ],
     "language": "python",
     "metadata": {},
     "outputs": [
      {
       "output_type": "stream",
       "stream": "stdout",
       "text": [
        "<html>\n",
        " <head>\n",
        "  <meta content=\"0;URL=http://mail.google.com/mail/\" http-equiv=\"Refresh\"/>\n",
        " </head>\n",
        " <body>\n",
        "  <script language=\"javascript\" type=\"text/javascript\">\n",
        "   <!--\n",
        "location.replace(\"http://mail.google.com/mail/\")\n",
        "-->\n",
        "  </script>\n",
        " </body>\n",
        "</html>\n"
       ]
      }
     ],
     "prompt_number": 5
    },
    {
     "cell_type": "code",
     "collapsed": false,
     "input": [
      "new_gmail_url = \"http://mail.google.com/mail/\"\n",
      "soup = BeautifulSoup( urllib2.urlopen(new_gmail_url).read() )\n",
      "print soup.find(id=\"Email\")"
     ],
     "language": "python",
     "metadata": {},
     "outputs": [
      {
       "output_type": "stream",
       "stream": "stdout",
       "text": [
        "<input class=\"\" id=\"Email\" name=\"Email\" placeholder=\"Email\" spellcheck=\"false\" type=\"email\" value=\"\">\n",
        "<label class=\"hidden-label\" for=\"Passwd\">Password</label>\n",
        "<input class=\"\" id=\"Passwd\" name=\"Passwd\" placeholder=\"Password\" type=\"password\">\n",
        "<input class=\"rc-button rc-button-submit\" id=\"signIn\" name=\"signIn\" type=\"submit\" value=\"Sign in\">\n",
        "<input name=\"PersistentCookie\" type=\"hidden\" value=\"yes\">\n",
        "<a href=\"https://accounts.google.com/RecoverAccount?service=mail&amp;continue=http%3A%2F%2Fmail.google.com%2Fmail%2F\" id=\"link-forgot-passwd\">\n",
        "  Need help?\n",
        "  </a>\n",
        "</input></input></input></input>\n"
       ]
      }
     ],
     "prompt_number": 9
    },
    {
     "cell_type": "code",
     "collapsed": false,
     "input": [
      "from selenium import webdriver\n",
      "from selenium.webdriver.common.keys import Keys\n",
      "\n",
      "chrome = webdriver.Chrome('/Users/Praveen/chromedriver')\n",
      "\n",
      "gmail_url = 'https://mail.google.com'\n",
      "chrome.get(gmail_url)"
     ],
     "language": "python",
     "metadata": {},
     "outputs": [],
     "prompt_number": 13
    },
    {
     "cell_type": "code",
     "collapsed": false,
     "input": [
      "username_form = chrome.find_element_by_id('Email')\n",
      "username_form.send_keys('praveen.rt')"
     ],
     "language": "python",
     "metadata": {},
     "outputs": [],
     "prompt_number": 17
    },
    {
     "cell_type": "code",
     "collapsed": false,
     "input": [
      "username_form = chrome.find_element_by_id('Passwd')\n",
      "username_form.send_keys('bB9124032')"
     ],
     "language": "python",
     "metadata": {},
     "outputs": [],
     "prompt_number": 18
    },
    {
     "cell_type": "code",
     "collapsed": false,
     "input": [],
     "language": "python",
     "metadata": {},
     "outputs": []
    },
    {
     "cell_type": "code",
     "collapsed": false,
     "input": [],
     "language": "python",
     "metadata": {},
     "outputs": []
    }
   ],
   "metadata": {}
  }
 ]
}