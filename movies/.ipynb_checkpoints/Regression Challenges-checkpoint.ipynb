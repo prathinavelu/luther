{
 "metadata": {
  "name": "",
  "signature": "sha256:251683dcae0b86f2f25a339c372abef95b9ae547dea00abbb596884d421aea50"
 },
 "nbformat": 3,
 "nbformat_minor": 0,
 "worksheets": [
  {
   "cells": [
    {
     "cell_type": "code",
     "collapsed": false,
     "input": [
      "#Challenge 1\n",
      "\n",
      "#Instead of predicting total gross directly, build a linear model that predicts the log (logarithm) of the total gross. \n",
      "#Plot the model. Plot the predictions versus actual values. Does this look like a better model?"
     ],
     "language": "python",
     "metadata": {},
     "outputs": [],
     "prompt_number": 1
    },
    {
     "cell_type": "code",
     "collapsed": false,
     "input": [
      "#Challenge 2\n",
      "\n",
      "#We are fitting and checking the predictions on the exact same dataset! Divide your data into two sets: \n",
      "#a training and a test set (roughly 75% training, %25 test). Fit a model on the training set, check the predictions \n",
      "#(by plotting versus actual values) in the test set."
     ],
     "language": "python",
     "metadata": {},
     "outputs": [],
     "prompt_number": 1
    },
    {
     "cell_type": "code",
     "collapsed": false,
     "input": [
      "#Challenge 3\n",
      "\n",
      "#Build a model that uses average director gross as a feature (one of the predictor variables). Fit and evaluate. \n",
      "#Would you use this model to predict budgets of upcoming movies? We will discuss"
     ],
     "language": "python",
     "metadata": {},
     "outputs": []
    }
   ],
   "metadata": {}
  }
 ]
}